{
 "cells": [
  {
   "cell_type": "markdown",
   "metadata": {
    "id": "qPp-cezGPonq"
   },
   "source": [
    "### Setup:"
   ]
  },
  {
   "cell_type": "code",
   "execution_count": 1,
   "metadata": {
    "id": "liVqoLUoNzUM"
   },
   "outputs": [],
   "source": [
    "import tensorflow as tf\n",
    "import numpy as np\n",
    "import pandas as pd\n",
    "import pickle\n",
    "import streamlit as st"
   ]
  },
  {
   "cell_type": "code",
   "execution_count": 2,
   "metadata": {
    "id": "liVqoLUoNzUM"
   },
   "outputs": [
    {
     "data": {
      "text/plain": [
       "(tensorflow.python.keras.engine.sequential.Sequential,\n",
       " dict,\n",
       " pandas.core.frame.DataFrame,\n",
       " array([5.1e-05]))"
      ]
     },
     "execution_count": 2,
     "metadata": {},
     "output_type": "execute_result"
    }
   ],
   "source": [
    "NUM_COLS = ['amount', 'oldbalanceOrg', 'newbalanceOrig', 'oldbalanceDest', 'newbalanceDest']\n",
    "\n",
    "# # load the model\n",
    "# model = tf.keras.models.load_model(\"./saved_model.h5\")\n",
    "\n",
    "# dummy code / Incorrect Comment this out!\n",
    "model = tf.keras.models.Sequential([tf.keras.layers.Dense(units=10, input_shape=(10,))])\n",
    "model.compile(loss='mse', optimizer='adam')\n",
    "\n",
    "with open(\"ohe_scaler.pkl\", 'rb') as f:\n",
    "    ohe, scaler = pickle.load(f)\n",
    "\n",
    "THRESHOLD = np.array([0.000051])\n",
    "\n",
    "# what are these objects?\n",
    "type(model), type(ohe), type(scaler), THRESHOLD"
   ]
  },
  {
   "cell_type": "markdown",
   "metadata": {
    "id": "Yv6VdD87PrXN"
   },
   "source": [
    "### Dummy Data for model inference:"
   ]
  },
  {
   "cell_type": "code",
   "execution_count": 3,
   "metadata": {
    "colab": {
     "base_uri": "https://localhost:8080/",
     "height": 112
    },
    "id": "NJxPwRAzNzVJ",
    "outputId": "595adc02-b0dc-4569-e7f4-b35c9785b6a8"
   },
   "outputs": [
    {
     "data": {
      "text/html": [
       "<div>\n",
       "<style scoped>\n",
       "    .dataframe tbody tr th:only-of-type {\n",
       "        vertical-align: middle;\n",
       "    }\n",
       "\n",
       "    .dataframe tbody tr th {\n",
       "        vertical-align: top;\n",
       "    }\n",
       "\n",
       "    .dataframe thead th {\n",
       "        text-align: right;\n",
       "    }\n",
       "</style>\n",
       "<table border=\"1\" class=\"dataframe\">\n",
       "  <thead>\n",
       "    <tr style=\"text-align: right;\">\n",
       "      <th></th>\n",
       "      <th>type</th>\n",
       "      <th>amount</th>\n",
       "      <th>oldbalanceOrg</th>\n",
       "      <th>newbalanceOrig</th>\n",
       "      <th>oldbalanceDest</th>\n",
       "      <th>newbalanceDest</th>\n",
       "      <th>isFraud</th>\n",
       "    </tr>\n",
       "  </thead>\n",
       "  <tbody>\n",
       "    <tr>\n",
       "      <th>0</th>\n",
       "      <td>CASH_OUT</td>\n",
       "      <td>1619313</td>\n",
       "      <td>1619313</td>\n",
       "      <td>0.0</td>\n",
       "      <td>0.0</td>\n",
       "      <td>1619313</td>\n",
       "      <td>1</td>\n",
       "    </tr>\n",
       "    <tr>\n",
       "      <th>1</th>\n",
       "      <td>CASH_OUT</td>\n",
       "      <td>1000</td>\n",
       "      <td>5000</td>\n",
       "      <td>4000.0</td>\n",
       "      <td>100.0</td>\n",
       "      <td>1100</td>\n",
       "      <td>0</td>\n",
       "    </tr>\n",
       "  </tbody>\n",
       "</table>\n",
       "</div>"
      ],
      "text/plain": [
       "       type   amount  oldbalanceOrg  newbalanceOrig  oldbalanceDest  \\\n",
       "0  CASH_OUT  1619313        1619313             0.0             0.0   \n",
       "1  CASH_OUT     1000           5000          4000.0           100.0   \n",
       "\n",
       "   newbalanceDest  isFraud  \n",
       "0         1619313        1  \n",
       "1            1100        0  "
      ]
     },
     "execution_count": 3,
     "metadata": {},
     "output_type": "execute_result"
    }
   ],
   "source": [
    "'''\n",
    "What do the features mean?\n",
    "\n",
    "1. type: Type of Transaction. Can be one of ['CASH_IN', 'CASH_OUT', 'DEBIT', 'PAYMENT', 'TRANSFER']\n",
    "2. amount: amount of transaction. Can only be positive.\n",
    "3. oldbalanceOrg: Initial Balance of the person initiating the transaction.\n",
    "4. newbalanceOrig: Final Balance of the person initiating the transaction, after money has been transfered.\n",
    "5. oldbalanceDest: Initial Balance of the person to whom the transaction is addressed.\n",
    "6. newbalanceDest: Final Balance of the person to whom transacion is addressed, after money has been transfered.\n",
    "\n",
    "'''\n",
    "\n",
    "# an example of fraudulant transaction\n",
    "fraud = {'type': 'CASH_OUT', 'amount': 1619313, 'oldbalanceOrg': 1619313,\n",
    "         'newbalanceOrig': 0.0, 'oldbalanceDest': 0.0, 'newbalanceDest': 1619313,\n",
    "         'isFraud': 1}\n",
    "\n",
    "# an example of non fraudulant transaction\n",
    "non_fraud = {'type': 'CASH_OUT', 'amount': 1000, 'oldbalanceOrg': 5000,\n",
    "             'newbalanceOrig': 4000, 'oldbalanceDest': 100, 'newbalanceDest': 1100,\n",
    "             'isFraud': 0}\n",
    "\n",
    "# how does it look?\n",
    "data = pd.DataFrame(data=[fraud, non_fraud])\n",
    "data"
   ]
  },
  {
   "cell_type": "markdown",
   "metadata": {
    "id": "ad1YDXLQPwQf"
   },
   "source": [
    "### Dummy Model Prediction:"
   ]
  },
  {
   "cell_type": "code",
   "execution_count": 4,
   "metadata": {
    "colab": {
     "base_uri": "https://localhost:8080/",
     "height": 83
    },
    "id": "f-8FMJ3qOPnn",
    "outputId": "f5259b0b-aa1f-4c52-85b4-2a2232d0be1c"
   },
   "outputs": [
    {
     "data": {
      "text/html": [
       "<style  type=\"text/css\" >\n",
       "#T_805d6_row0_col0,#T_805d6_row0_col1,#T_805d6_row0_col2,#T_805d6_row0_col3,#T_805d6_row0_col4,#T_805d6_row0_col5,#T_805d6_row0_col6,#T_805d6_row0_col7,#T_805d6_row0_col8{\n",
       "            background-color:  green;\n",
       "        }#T_805d6_row1_col0,#T_805d6_row1_col1,#T_805d6_row1_col2,#T_805d6_row1_col3,#T_805d6_row1_col4,#T_805d6_row1_col5,#T_805d6_row1_col6,#T_805d6_row1_col7,#T_805d6_row1_col8{\n",
       "            background-color:  red;\n",
       "        }</style><table id=\"T_805d6_\" ><thead>    <tr>        <th class=\"blank level0\" ></th>        <th class=\"col_heading level0 col0\" >type</th>        <th class=\"col_heading level0 col1\" >amount</th>        <th class=\"col_heading level0 col2\" >oldbalanceOrg</th>        <th class=\"col_heading level0 col3\" >newbalanceOrig</th>        <th class=\"col_heading level0 col4\" >oldbalanceDest</th>        <th class=\"col_heading level0 col5\" >newbalanceDest</th>        <th class=\"col_heading level0 col6\" >isFraud</th>        <th class=\"col_heading level0 col7\" >Reconstruction_loss</th>        <th class=\"col_heading level0 col8\" >Predictions</th>    </tr></thead><tbody>\n",
       "                <tr>\n",
       "                        <th id=\"T_805d6_level0_row0\" class=\"row_heading level0 row0\" >0</th>\n",
       "                        <td id=\"T_805d6_row0_col0\" class=\"data row0 col0\" >CASH_OUT</td>\n",
       "                        <td id=\"T_805d6_row0_col1\" class=\"data row0 col1\" >1619313</td>\n",
       "                        <td id=\"T_805d6_row0_col2\" class=\"data row0 col2\" >1619313</td>\n",
       "                        <td id=\"T_805d6_row0_col3\" class=\"data row0 col3\" >0.000000</td>\n",
       "                        <td id=\"T_805d6_row0_col4\" class=\"data row0 col4\" >0.000000</td>\n",
       "                        <td id=\"T_805d6_row0_col5\" class=\"data row0 col5\" >1619313</td>\n",
       "                        <td id=\"T_805d6_row0_col6\" class=\"data row0 col6\" >1</td>\n",
       "                        <td id=\"T_805d6_row0_col7\" class=\"data row0 col7\" >1.192539</td>\n",
       "                        <td id=\"T_805d6_row0_col8\" class=\"data row0 col8\" >True</td>\n",
       "            </tr>\n",
       "            <tr>\n",
       "                        <th id=\"T_805d6_level0_row1\" class=\"row_heading level0 row1\" >1</th>\n",
       "                        <td id=\"T_805d6_row1_col0\" class=\"data row1 col0\" >CASH_OUT</td>\n",
       "                        <td id=\"T_805d6_row1_col1\" class=\"data row1 col1\" >1000</td>\n",
       "                        <td id=\"T_805d6_row1_col2\" class=\"data row1 col2\" >5000</td>\n",
       "                        <td id=\"T_805d6_row1_col3\" class=\"data row1 col3\" >4000.000000</td>\n",
       "                        <td id=\"T_805d6_row1_col4\" class=\"data row1 col4\" >100.000000</td>\n",
       "                        <td id=\"T_805d6_row1_col5\" class=\"data row1 col5\" >1100</td>\n",
       "                        <td id=\"T_805d6_row1_col6\" class=\"data row1 col6\" >0</td>\n",
       "                        <td id=\"T_805d6_row1_col7\" class=\"data row1 col7\" >0.172169</td>\n",
       "                        <td id=\"T_805d6_row1_col8\" class=\"data row1 col8\" >True</td>\n",
       "            </tr>\n",
       "    </tbody></table>"
      ],
      "text/plain": [
       "<pandas.io.formats.style.Styler at 0x7fbd487b6ac0>"
      ]
     },
     "execution_count": 4,
     "metadata": {},
     "output_type": "execute_result"
    }
   ],
   "source": [
    "# scale, one_hot encode and make predictions with our model\n",
    "temp = pd.concat([\n",
    "    data['type'].apply(lambda x: pd.Series(ohe[x])),\n",
    "    ((data.iloc[:, 1:-1] - scaler.loc['Mean']) / scaler.loc['Std'])[NUM_COLS]\n",
    "], axis=1).values\n",
    "\n",
    "# lets make predictions on our samples\n",
    "data['Reconstruction_loss'] = np.mean(np.square(np.subtract(\n",
    "    temp, model.predict(temp))), axis=1)\n",
    "\n",
    "# make the boolean predictions\n",
    "data['Predictions'] = data['Reconstruction_loss'] > THRESHOLD[0]\n",
    "\n",
    "# how does it look? Wrong predictions appear in Red\n",
    "data.style.apply(lambda x: ['background-color: green' if x['Predictions'] == x['isFraud'] \n",
    "                            else 'background-color: red'] * len(x), axis=1)"
   ]
  },
  {
   "cell_type": "markdown",
   "metadata": {
    "id": "cVeKJOMmNzVM"
   },
   "source": [
    "### Streamlit inference Logic:"
   ]
  },
  {
   "cell_type": "code",
   "execution_count": 5,
   "metadata": {},
   "outputs": [],
   "source": [
    "def predict(ttype, amt, org_old_bal, org_new_bal, des_old_bal, des_new_bal, model):\n",
    "    'Code logic to predict using the model. Assumes data is already preprocessed'\n",
    "    \n",
    "    result = []\n",
    "    \n",
    "    # scale and one hot encode before feeding to model\n",
    "    ttype = ohe[ttype]\n",
    "    amt = (amt - scaler.loc['Mean', 'amount']) / scaler.loc['Std', 'amount']\n",
    "    org_old_bal = (org_old_bal - scaler.at['Mean', 'oldbalanceOrg']) / scaler.at['Std', 'oldbalanceOrg']\n",
    "    org_new_bal = (org_new_bal - scaler.at['Mean', 'newbalanceOrig']) / scaler.at['Std', 'newbalanceOrig']\n",
    "    des_old_bal = (des_old_bal - scaler.at['Mean', 'oldbalanceDest']) / scaler.at['Std', 'oldbalanceDest']\n",
    "    des_new_bal = (des_new_bal - scaler.at['Mean', 'newbalanceDest']) / scaler.at['Std', 'newbalanceDest']\n",
    "    \n",
    "    # stack as a numpy array\n",
    "    temp = np.stack([*ttype, amt, org_old_bal, org_new_bal, des_old_bal, des_new_bal], axis=0)\n",
    "    temp = temp[np.newaxis]\n",
    "\n",
    "    # lets make predictions on our samples\n",
    "    result.append(np.mean(np.square(np.subtract(temp, model.predict(temp))), axis=1))\n",
    "\n",
    "    # make the boolean predictions\n",
    "    result.append(result[0] > THRESHOLD[0])\n",
    "\n",
    "    return result"
   ]
  },
  {
   "cell_type": "code",
   "execution_count": 6,
   "metadata": {},
   "outputs": [],
   "source": [
    "def main():\n",
    "    # front end elements of the web page\n",
    "    html_temp = \"\"\"\n",
    "    <div style =\"background-color:yellow;padding:13px\">\n",
    "    <h1 style =\"color:black;text-align:center;\">Streamlit Credit Card Fraud Detection App</h1>\n",
    "    </div>\n",
    "    \"\"\"\n",
    "\n",
    "    # display the front end aspect\n",
    "    st.markdown(html_temp, unsafe_allow_html=True)\n",
    "\n",
    "    # following lines create boxes in which user can enter data required to make prediction\n",
    "    ttype = st.selectbox('ttype', ('CASH_IN', 'CASH_OUT', 'DEBIT', 'PAYMENT', 'TRANSFER'))\n",
    "    amt = st.number_input(\"Transaction Input\")\n",
    "    org_old_bal = st.number_input(\"Old Balance of Sender\")\n",
    "    org_new_bal = st.number_input(\"New Balance of Sender\")\n",
    "    des_old_bal = st.number_input(\"Old Balance of Reciepient\")\n",
    "    des_new_bal = st.number_input(\"New Balance of Reciepient\")\n",
    "\n",
    "    result = \"\"\n",
    "\n",
    "    # when 'Predict' is clicked, make the prediction and store it\n",
    "    if st.button(\"Predict\"):\n",
    "        result = predict(ttype, amt, org_old_bal, org_new_bal, des_old_bal, des_new_bal, model)\n",
    "        st.success(f'The Transaction is {\"fraudulant\" if result[1] else \"genuine\"}!' + \n",
    "                   f'Reconstruction Loss: {float(result[0]):.6}')\n",
    "\n",
    "if __name__ == \"__main__\":\n",
    "    NUM_COLS = ['amount', 'oldbalanceOrg', 'newbalanceOrig', 'oldbalanceDest', 'newbalanceDest']\n",
    "\n",
    "    # # load the model\n",
    "    # model = tf.keras.models.load_model(\"./saved_model.h5\")\n",
    "\n",
    "    # dummy code / Incorrect Comment this out!\n",
    "    model = tf.keras.models.Sequential([tf.keras.layers.Dense(units=10, input_shape=(10,))])\n",
    "    model.compile(loss='mse', optimizer='adam')\n",
    "\n",
    "    with open(\"ohe_scaler.pkl\", 'rb') as f:\n",
    "        ohe, scaler = pickle.load(f)\n",
    "\n",
    "    THRESHOLD = np.array([0.000051])\n",
    "\n",
    "    main()"
   ]
  },
  {
   "cell_type": "code",
   "execution_count": 7,
   "metadata": {},
   "outputs": [
    {
     "name": "stderr",
     "output_type": "stream",
     "text": [
      "2021-01-28 16:04:23.806 INFO    pyngrok.ngrok: Opening tunnel named: http-8501-ceba422a-aa3d-45d1-835a-586f95561135\n",
      "2021-01-28 16:04:23.848 INFO    pyngrok.process.ngrok: t=2021-01-28T16:04:23+0530 lvl=info msg=\"no configuration paths supplied\"\n",
      "2021-01-28 16:04:23.854 INFO    pyngrok.process.ngrok: t=2021-01-28T16:04:23+0530 lvl=info msg=\"using configuration at default config path\" path=/home/kael/.ngrok2/ngrok.yml\n",
      "2021-01-28 16:04:23.857 INFO    pyngrok.process.ngrok: t=2021-01-28T16:04:23+0530 lvl=info msg=\"open config file\" path=/home/kael/.ngrok2/ngrok.yml err=nil\n",
      "2021-01-28 16:04:23.863 INFO    pyngrok.process.ngrok: t=2021-01-28T16:04:23+0530 lvl=info msg=\"starting web service\" obj=web addr=127.0.0.1:4040\n",
      "2021-01-28 16:04:24.839 INFO    pyngrok.process.ngrok: t=2021-01-28T16:04:24+0530 lvl=info msg=\"tunnel session started\" obj=tunnels.session\n",
      "2021-01-28 16:04:24.840 INFO    pyngrok.process.ngrok: t=2021-01-28T16:04:24+0530 lvl=info msg=\"client session established\" obj=csess id=2503d6300b5b\n",
      "2021-01-28 16:04:24.851 INFO    pyngrok.process.ngrok: t=2021-01-28T16:04:24+0530 lvl=info msg=start pg=/api/tunnels id=70e5994f83ca8825\n",
      "2021-01-28 16:04:24.854 INFO    pyngrok.process.ngrok: t=2021-01-28T16:04:24+0530 lvl=info msg=end pg=/api/tunnels id=70e5994f83ca8825 status=200 dur=365.589µs\n",
      "2021-01-28 16:04:24.860 INFO    pyngrok.process.ngrok: t=2021-01-28T16:04:24+0530 lvl=info msg=start pg=/api/tunnels id=d1aa22a3672ecd1d\n",
      "2021-01-28 16:04:24.866 INFO    pyngrok.process.ngrok: t=2021-01-28T16:04:24+0530 lvl=info msg=end pg=/api/tunnels id=d1aa22a3672ecd1d status=200 dur=159.353µs\n",
      "2021-01-28 16:04:24.871 INFO    pyngrok.process.ngrok: t=2021-01-28T16:04:24+0530 lvl=info msg=start pg=/api/tunnels id=abdfc4afbdbc8e74\n",
      "2021-01-28 16:04:25.344 INFO    pyngrok.process.ngrok: t=2021-01-28T16:04:25+0530 lvl=info msg=\"started tunnel\" obj=tunnels name=\"http-8501-ceba422a-aa3d-45d1-835a-586f95561135 (http)\" addr=http://localhost:8501 url=http://c222754414e5.ngrok.io\n"
     ]
    },
    {
     "name": "stdout",
     "output_type": "stream",
     "text": [
      "Connect to Public Url: NgrokTunnel: \"http://c222754414e5.ngrok.io\" -> \"http://localhost:8501\"\n"
     ]
    },
    {
     "name": "stderr",
     "output_type": "stream",
     "text": [
      "2021-01-28 16:04:25.347 INFO    pyngrok.process.ngrok: t=2021-01-28T16:04:25+0530 lvl=info msg=\"started tunnel\" obj=tunnels name=http-8501-ceba422a-aa3d-45d1-835a-586f95561135 addr=http://localhost:8501 url=https://c222754414e5.ngrok.io\n",
      "2021-01-28 16:04:25.349 INFO    pyngrok.process.ngrok: t=2021-01-28T16:04:25+0530 lvl=info msg=end pg=/api/tunnels id=abdfc4afbdbc8e74 status=201 dur=484.332897ms\n",
      "2021-01-28 16:04:25.355 INFO    pyngrok.process.ngrok: t=2021-01-28T16:04:25+0530 lvl=info msg=start pg=\"/api/tunnels/http-8501-ceba422a-aa3d-45d1-835a-586f95561135 (http)\" id=e6be0d9762de517e\n",
      "2021-01-28 16:04:25.356 INFO    pyngrok.process.ngrok: t=2021-01-28T16:04:25+0530 lvl=info msg=end pg=\"/api/tunnels/http-8501-ceba422a-aa3d-45d1-835a-586f95561135 (http)\" id=e6be0d9762de517e status=200 dur=192.683µs\n",
      "2021-01-28 16:04:41.200 INFO    pyngrok.process.ngrok: t=2021-01-28T16:04:41+0530 lvl=info msg=\"join connections\" obj=join id=449f9bfb5be0 l=[::1]:8501 r=27.5.237.242:50394\n",
      "2021-01-28 16:04:47.624 INFO    pyngrok.process.ngrok: t=2021-01-28T16:04:47+0530 lvl=info msg=\"join connections\" obj=join id=82d2c5696e30 l=[::1]:8501 r=27.5.237.242:50404\n",
      "2021-01-28 16:04:47.633 INFO    pyngrok.process.ngrok: t=2021-01-28T16:04:47+0530 lvl=info msg=\"join connections\" obj=join id=fb5e24c067d9 l=[::1]:8501 r=27.5.237.242:50400\n",
      "2021-01-28 16:04:47.639 INFO    pyngrok.process.ngrok: t=2021-01-28T16:04:47+0530 lvl=info msg=\"join connections\" obj=join id=fcf68937728c l=[::1]:8501 r=27.5.237.242:50402\n",
      "2021-01-28 16:04:50.903 INFO    pyngrok.process.ngrok: t=2021-01-28T16:04:50+0530 lvl=info msg=\"join connections\" obj=join id=04865244cd2c l=[::1]:8501 r=27.5.237.242:50412\n",
      "2021-01-28 16:04:52.498 INFO    pyngrok.process.ngrok: t=2021-01-28T16:04:52+0530 lvl=info msg=\"join connections\" obj=join id=343077c89960 l=[::1]:8501 r=27.5.237.242:50416\n",
      "2021-01-28 16:04:52.528 INFO    pyngrok.process.ngrok: t=2021-01-28T16:04:52+0530 lvl=info msg=\"join connections\" obj=join id=519df7a0ac49 l=[::1]:8501 r=27.5.237.242:50418\n"
     ]
    }
   ],
   "source": [
    "import subprocess\n",
    "from pyngrok import ngrok\n",
    "\n",
    "# execute in background\n",
    "p = subprocess.Popen([\"streamlit\", \"run\", \"app.py\"])\n",
    "\n",
    "# lets now host it to a temporary public url\n",
    "public_url = ngrok.connect(\"8501\")\n",
    "print (\"Connect to Public Url:\", public_url)"
   ]
  },
  {
   "cell_type": "code",
   "execution_count": null,
   "metadata": {},
   "outputs": [],
   "source": [
    "# when you wish to terminate do\n",
    "p.terminate()\n",
    "ngrok.disconnect(public_url)\n",
    "ngrok.kill()"
   ]
  },
  {
   "cell_type": "code",
   "execution_count": null,
   "metadata": {},
   "outputs": [],
   "source": []
  }
 ],
 "metadata": {
  "colab": {
   "collapsed_sections": [],
   "name": "Standalone Model Code.ipynb",
   "provenance": []
  },
  "kernelspec": {
   "display_name": "Python 3",
   "language": "python",
   "name": "python3"
  },
  "language_info": {
   "codemirror_mode": {
    "name": "ipython",
    "version": 3
   },
   "file_extension": ".py",
   "mimetype": "text/x-python",
   "name": "python",
   "nbconvert_exporter": "python",
   "pygments_lexer": "ipython3",
   "version": "3.9.1"
  }
 },
 "nbformat": 4,
 "nbformat_minor": 4
}
